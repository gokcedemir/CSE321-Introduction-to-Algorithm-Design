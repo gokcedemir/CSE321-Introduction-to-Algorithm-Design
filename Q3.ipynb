{
 "cells": [
  {
   "cell_type": "markdown",
   "metadata": {},
   "source": [
    "     Created by Gökçe Demir\n",
    "     Student ID: 141044067\n",
    "     CSE 321 - HW3 Q3\n",
    "\n",
    "\n",
    "     Given a sorted array of distinct integers A[1; … ; n], propose a divide-conquer\n",
    "     algorithm that finds out whether there is an index i for which A[i]=i. If found this matching \n",
    "     return this matching number, not found return -1.\n",
    "\n",
    "     Complexity analysis is that: Using binary search, for each call to Search the difference between right and left is\n",
    "     halved. Hence, the running time is O(log n).\n",
    "     T(n) = 2T(n-1)+1 \n",
    "     If we solve this recurrence, T(n) = O(logn)\n",
    "     Best Case = O(1)"
   ]
  },
  {
   "cell_type": "code",
   "execution_count": 1,
   "metadata": {},
   "outputs": [
    {
     "name": "stdout",
     "output_type": "stream",
     "text": [
      "Founded element is  4\n"
     ]
    }
   ],
   "source": [
    " # Using binary search method \n",
    "def Search(array, left, right):\n",
    "    \n",
    "    mid = (left+right)//2\n",
    "    \n",
    "    #base case --> ex. arr[0]=3 , Complexity is O(1)\n",
    "    if(left == right and array[mid]!= mid):\n",
    "        return -1\n",
    "    #Complexity is O(1)\n",
    "    if(array[mid]== mid): \n",
    "        return mid\n",
    "    # if mid is greater than mid index, we check the left parts, because the array is already sorted\n",
    "    if(array[mid]> mid):\n",
    "        return Search(array, left, mid)\n",
    "     # if mid is smaller than mid index, we check the right parts, because the array is already sorted\n",
    "    if(array[mid]< mid):\n",
    "        return Search(array, mid+1, right)\n",
    "    \n",
    "    # driver codes\n",
    "array= [-3,0,1,2,4]\n",
    "returnVal = Search(array,0, len(array)-1)\n",
    "if(returnVal== -1): \n",
    "    # if there is not an index i for A[i]=i\n",
    "    print(\"Not founded \", returnVal)\n",
    "else:\n",
    "    print(\"Founded element is \", returnVal)\n",
    "\n",
    "\n",
    "\n",
    "\n",
    "\n"
   ]
  },
  {
   "cell_type": "code",
   "execution_count": null,
   "metadata": {},
   "outputs": [],
   "source": []
  }
 ],
 "metadata": {
  "kernelspec": {
   "display_name": "Python 3",
   "language": "python",
   "name": "python3"
  },
  "language_info": {
   "codemirror_mode": {
    "name": "ipython",
    "version": 3
   },
   "file_extension": ".py",
   "mimetype": "text/x-python",
   "name": "python",
   "nbconvert_exporter": "python",
   "pygments_lexer": "ipython3",
   "version": "3.7.0"
  }
 },
 "nbformat": 4,
 "nbformat_minor": 2
}
