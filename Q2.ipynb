{
 "cells": [
  {
   "cell_type": "markdown",
   "metadata": {},
   "source": [
    "    Created by Gökçe Demir\n",
    "    Student ID: 141044067\n",
    "    CSE321- HW3 - Q2\n",
    "    \n",
    "    This code givens by winner of ONE-Pile MIN game. Propose a decrease and conquer algorithm that\n",
    "    calculates which player wins the game.\n",
    "    \n",
    "    We can calculate that which player wins the game. The result depends on two factor:\n",
    "        - The player who starts first.\n",
    "        - Initial Number of coins in game\n",
    "        \n",
    "    \"If both player1 and player2 play optimally, then the player starting first is guaranteed to win\n",
    "    if   the Nim-Sum at the beginning of the game is non-zero. Otherwise, if the \n",
    "    Nim-Sum evaluates to zero, then player1 will lose definitely.\" (the proof from wikipedia          \n",
    "    https://en.wikipedia.org/wiki/Nim#Proof_of_the_winning_formula )\n",
    "    \n",
    "    Complexity of this code is O(n).  Because this code runs number of piles times"
   ]
  },
  {
   "cell_type": "code",
   "execution_count": 2,
   "metadata": {},
   "outputs": [
    {
     "name": "stdout",
     "output_type": "stream",
     "text": [
      "How many piles are in the nim-game? 2\n",
      "Enter the number for initially coins: 3\n",
      "Enter the number for initially coins: 5\n",
      "[3, 5]\n",
      "-------\n",
      "In pile 1 you have 00011(3) sticks.\n",
      "xor:  3\n",
      "-------\n",
      "In pile 2 you have 00101(5) sticks.\n",
      "xor:  6\n",
      "Player1 is winner :)\n"
     ]
    }
   ],
   "source": [
    "def calculate(pilesArray, numOfpiles):\n",
    "    \n",
    "    # initial value 0\n",
    "    xorResult =0 \n",
    "    for i in range(numOfpiles): \n",
    "        #Firstly Convert each number into binary\n",
    "        pileBin = bin(pilesArray[i])[2:].zfill(5)\n",
    "        # Show the player the binary equivalent of each pile...  \n",
    "        print(\"-------\")\n",
    "        print(\"In pile \" + str(i+1) + \" you have \" + str(pileBin)+ \"(\"+ str(pilesArray[i]) + \")\" +\" sticks.\")\n",
    "         #We calcute XOR\n",
    "        xorResult^=pilesArray[i]\n",
    "        print(\"xor: \", xorResult)\n",
    "        \n",
    "    #if first player is winner as xor resuls is zero\n",
    "    if(xorResult == 0 or numOfpiles%2 ==0):\n",
    "        return \"Player1 is winner :)\"\n",
    "    \n",
    "    #if player2 is winner, xor result is nonzero\n",
    "    else:\n",
    "        return \"Player2 is winner\"\n",
    "    \n",
    "    \n",
    "#main codes\n",
    "pilesArray = []\n",
    "numOfpiles = int(input(\"How many piles are in the nim-game? \"))\n",
    "for i in range(0, numOfpiles):\n",
    "    x = input('Enter the number for initially coins: ')\n",
    "    pilesArray.append(int(x))\n",
    "print(pilesArray)\n",
    "print(calculate(pilesArray, numOfpiles))\n"
   ]
  },
  {
   "cell_type": "code",
   "execution_count": null,
   "metadata": {},
   "outputs": [],
   "source": []
  }
 ],
 "metadata": {
  "kernelspec": {
   "display_name": "Python 3",
   "language": "python",
   "name": "python3"
  },
  "language_info": {
   "codemirror_mode": {
    "name": "ipython",
    "version": 3
   },
   "file_extension": ".py",
   "mimetype": "text/x-python",
   "name": "python",
   "nbconvert_exporter": "python",
   "pygments_lexer": "ipython3",
   "version": "3.7.0"
  }
 },
 "nbformat": 4,
 "nbformat_minor": 2
}
