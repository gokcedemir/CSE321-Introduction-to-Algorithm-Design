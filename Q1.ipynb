{
 "cells": [
  {
   "cell_type": "markdown",
   "metadata": {},
   "source": [
    "    Created by Gökçe Demir\n",
    "    Student ID: 141044067\n",
    "    CSE 321 - HW3 Q1\n",
    "    \n",
    "    This project includes DFS and BFS algorithm. Firstly, read a excel file and print the searching results.\n",
    "    \n",
    "    \n",
    "    Input:\n",
    "        * graph: Graph\n",
    "        * start: vertex of graph\n",
    "            Vertex from which to start the traversal.\n",
    "     \n",
    "    Output: \n",
    "        * Print graph\n",
    "    Complexity: \n",
    "        * The time complexity of DFS traversal is O(V^2) where \n",
    "            V is number of vertex in the graph. \n",
    "        \n",
    "        * The time complexity of BFS traversal is O(V^2) where V is number of vertex in the graph.\n",
    "\n",
    "    \n",
    "    "
   ]
  },
  {
   "cell_type": "markdown",
   "metadata": {},
   "source": []
  },
  {
   "cell_type": "code",
   "execution_count": 1,
   "metadata": {},
   "outputs": [
    {
     "name": "stdout",
     "output_type": "stream",
     "text": [
      "DFS traversal from a given graph: [1, 2, 4, 5, 6, 7, 8, 9, 10, 3]\n",
      "BFS traversal from a given graph: [1, 2, 3, 4, 5, 8, 6, 9, 10, 7]\n"
     ]
    }
   ],
   "source": [
    "import collections\n",
    "\n",
    "# Returns the breadth-first search tree of the graph.\n",
    "#Given a graph and a starting vertex, this method returns the breadth-first \n",
    "#search tree of graph, rooted at the vertex start.\n",
    "def bfs_iterative(graph, start, path=[]):\n",
    "    queue=[start]\n",
    "    while queue:\n",
    "        vertex = queue.pop(0)\n",
    "        if not vertex in path:\n",
    "            path+=[vertex]\n",
    "            queue += graph[vertex]\n",
    "    return path\n",
    "\n",
    "#Traverse with DFS\n",
    "def dfs_recursive(graph, vertex, path=[]):\n",
    "    path += [vertex]\n",
    "\n",
    "    for neighbor in graph[vertex]:\n",
    "        if neighbor not in path:\n",
    "            path = dfs_recursive(graph, neighbor, path)\n",
    "\n",
    "    return path\n",
    "  \n",
    "  \n",
    "#Driver code \n",
    "#Give the location of the file \n",
    "#loc = (\"Graph_data.XLS\") \n",
    "\n",
    "# default dictionary to store graph \n",
    "#g = Graph()\n",
    "\n",
    "# Dosyadan okuma kısmını devre dışı bırakıp, direkt olarak matrisi doldurdum.\n",
    "#Gerekli işlemler adjaceny_matris üzerinden yapılmaktadır. \n",
    "\n",
    "\"\"\"\n",
    "# To open Workbook \n",
    "wb = xlrd.open_workbook(loc) \n",
    "sheet = wb.sheet_by_index(0) \n",
    "\n",
    "# For row 0 and column 0 \n",
    "sheet.cell_value(0, 0) \n",
    "print(sheet.nrows)\n",
    "print(sheet.ncols)\n",
    "\n",
    "for i in range(3,sheet.nrows):\n",
    "    g.addEdge(int(sheet.cell_value(i, 0)),int(sheet.cell_value(i, 1)))\n",
    "    \n",
    "\"\"\"\n",
    "\n",
    "#Excel dosyasındaki örnek neticesinde adjaceny matris oluşturuldu. # \n",
    "adjacency_matrix = {1: [2, 3,4,5,8], 2: [4],\n",
    "                    3: [5,6,9], 4: [5], 5: [6],\n",
    "                    6: [7], 7: [8,10], 8:[9,10], 9:[10],10:[]}\n",
    "\n",
    "print(\"DFS traversal from a given graph: \"+ str(dfs_recursive(adjacency_matrix, 1)))\n",
    "print(\"BFS traversal from a given graph: \" + str(bfs_iterative(adjacency_matrix, 1)))\n"
   ]
  },
  {
   "cell_type": "code",
   "execution_count": null,
   "metadata": {},
   "outputs": [],
   "source": []
  },
  {
   "cell_type": "code",
   "execution_count": null,
   "metadata": {},
   "outputs": [],
   "source": []
  },
  {
   "cell_type": "code",
   "execution_count": null,
   "metadata": {},
   "outputs": [],
   "source": []
  }
 ],
 "metadata": {
  "kernelspec": {
   "display_name": "Python 3",
   "language": "python",
   "name": "python3"
  },
  "language_info": {
   "codemirror_mode": {
    "name": "ipython",
    "version": 3
   },
   "file_extension": ".py",
   "mimetype": "text/x-python",
   "name": "python",
   "nbconvert_exporter": "python",
   "pygments_lexer": "ipython3",
   "version": "3.7.0"
  }
 },
 "nbformat": 4,
 "nbformat_minor": 2
}
