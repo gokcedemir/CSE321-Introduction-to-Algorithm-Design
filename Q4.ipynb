{
 "cells": [
  {
   "cell_type": "markdown",
   "metadata": {},
   "source": [
    "    Created by Gökçe Demir \n",
    "    Student ID: 141044067 \n",
    "    CSE 321- HW3 Question4\n",
    "\n",
    "    Given an array of integers A[1; … ;n], propose a divide-and-conquer\n",
    "    algorithm that finds a contiguous subset having the largest sum within A. \n",
    "    \n",
    "    Compexity: LargestSubArray() is a recursive method. \n",
    "    T(n) = 2T(n/2) + Θ(n)\n",
    "    The algorithm implements with divide and conquer method. So we can solve this recurrence with Master Theorem. \n",
    "    \n",
    "    T(n) = 2T(n/2) + O(n)\n",
    "        * a= 2\n",
    "        * b=2\n",
    "        * d=1\n",
    "        \n",
    "     The solution of the recurrence is O(nlogn) \n",
    "    \n",
    "    "
   ]
  },
  {
   "cell_type": "code",
   "execution_count": 1,
   "metadata": {},
   "outputs": [
    {
     "name": "stdout",
     "output_type": "stream",
     "text": [
      "The contiguous subset with the largest sum is  14\n"
     ]
    }
   ],
   "source": [
    "#divides array of two parts; right and left \n",
    "def findingMax(array, left, mid, right):\n",
    "    # left sub array\n",
    "    leftSum = 0\n",
    "    totalSumLeft = -5000 #min val\n",
    "        \n",
    "    # right sub array\n",
    "    rightSum =0\n",
    "    totalSumRight = -5000\n",
    "        \n",
    "    # calculate sum of right part \n",
    "    for i in range(mid+1, right+1):\n",
    "        rightSum += array[i]\n",
    "        if(rightSum > totalSumRight):\n",
    "            totalSumRight = rightSum\n",
    "        #Calculate sum of left part\n",
    "    for j in range(mid,left-1,-1):\n",
    "        leftSum += array[j]\n",
    "        if(leftSum > totalSumLeft):\n",
    "            totalSumLeft = leftSum\n",
    "    #return sum of right and left part\n",
    "    return totalSumRight+ totalSumLeft;\n",
    "\n",
    "#Find the largest sum of subarrray in given array as parameter.\n",
    "def LargestSubArray(array,left,right):\n",
    "        \n",
    "    #If array has only one element, the sum is equals this one element.\n",
    "    if(right == left):\n",
    "        return array[left]\n",
    "    mid = (left+right)//2 \n",
    "            \n",
    "    forLeftPart = LargestSubArray(array, left, mid) #max sub array in left array\n",
    "    forRightPart= LargestSubArray(array,mid+1, right) #max sub array in right array\n",
    "    totalSum = findingMax(array, left,mid, right) # max sub array in array\n",
    "            \n",
    "    #The max() method returns the largest element in an iterable or largest of two or more parameters.\n",
    "    returnVal = max(forLeftPart, forRightPart, totalSum)\n",
    "    return returnVal\n",
    "        \n",
    "#main function \n",
    "\n",
    "array=[5, -6, 6, 7, -6, 7, -4, 3]\n",
    "largestSum = LargestSubArray(array, 0, len(array)-1)\n",
    "print(\"The contiguous subset with the largest sum is \", largestSum)\n",
    "\n",
    "    \n",
    "    \n",
    "        \n",
    "        \n",
    "            "
   ]
  },
  {
   "cell_type": "code",
   "execution_count": null,
   "metadata": {},
   "outputs": [],
   "source": []
  }
 ],
 "metadata": {
  "kernelspec": {
   "display_name": "Python 3",
   "language": "python",
   "name": "python3"
  },
  "language_info": {
   "codemirror_mode": {
    "name": "ipython",
    "version": 3
   },
   "file_extension": ".py",
   "mimetype": "text/x-python",
   "name": "python",
   "nbconvert_exporter": "python",
   "pygments_lexer": "ipython3",
   "version": "3.7.0"
  }
 },
 "nbformat": 4,
 "nbformat_minor": 2
}
