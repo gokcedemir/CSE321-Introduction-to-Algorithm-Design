{
 "cells": [
  {
   "cell_type": "markdown",
   "metadata": {},
   "source": [
    "    Created by Gökçe Demir\n",
    "    Student ID: 141044067\n",
    "    CSE321 HW3- Q5\n",
    "    \n",
    "    Propose a recursive algorithm thatand implement this algorithm using Python.\n",
    "    \n",
    "    Function to find out whether a given pattern is valid on a given string  \n",
    "       * text - given string \n",
    "       * pattern - given pattern \n",
    "       * map - stores mapping between pattern and string \n",
    "      \n",
    "     Complexity: \n",
    "     If patterns are limited to only a and b, complexity is O(n^2). If however you can have d elements in the pattern, it        would be O(n^d).\n"
   ]
  },
  {
   "cell_type": "code",
   "execution_count": 2,
   "metadata": {},
   "outputs": [
    {
     "name": "stdout",
     "output_type": "stream",
     "text": [
      "Pattern: abcdab  Text: tobeornottobet --> False\n",
      "Pattern: abcdab  Text: tobeornottobe --> True\n"
     ]
    }
   ],
   "source": [
    "#program to find out if string follows a given pattern or not\n",
    "def check(pattern, text, myMap):\n",
    "    ptt = len(pattern)\n",
    "    txt= len(text)  #length of given string \n",
    "    #If both string and pattern reach their end \n",
    "    if(ptt == 0 and txt== 0):\n",
    "        return True\n",
    "    # If either string or pattern reach their end \n",
    "    if(ptt== 0 or txt== 0):\n",
    "        return False\n",
    "    # if character is seen before\n",
    "    if(pattern[0] in myMap):\n",
    "        tmp = myMap[pattern[0]]\n",
    "        if(len(tmp)>txt or text[:len(tmp)] != tmp):\n",
    "            return False\n",
    "        else:\n",
    "            #recursive call\n",
    "            return check(pattern[1:], text[len(tmp):], myMap)\n",
    "    else:\n",
    "        for i in range(1,txt):\n",
    "            myMap[pattern[0]] = text[:i]\n",
    "            if check(pattern[1:], text[i:], myMap):\n",
    "                return True\n",
    "            # if not, remove from map \n",
    "            del myMap[pattern[0]]\n",
    "\n",
    "    return False\n",
    "#driver codes\n",
    "\n",
    "myMap={}\n",
    "print(\"Pattern: abcdab  Text: tobeornottobet --> \" + str(check('abcdab', 'tobeornottobet', myMap)))\n",
    "print(\"Pattern: abcdab  Text: tobeornottobe --> \" + str(check('abcdab', 'tobeornottobe', myMap)))"
   ]
  },
  {
   "cell_type": "code",
   "execution_count": null,
   "metadata": {},
   "outputs": [],
   "source": []
  }
 ],
 "metadata": {
  "kernelspec": {
   "display_name": "Python 3",
   "language": "python",
   "name": "python3"
  },
  "language_info": {
   "codemirror_mode": {
    "name": "ipython",
    "version": 3
   },
   "file_extension": ".py",
   "mimetype": "text/x-python",
   "name": "python",
   "nbconvert_exporter": "python",
   "pygments_lexer": "ipython3",
   "version": "3.7.0"
  }
 },
 "nbformat": 4,
 "nbformat_minor": 2
}
